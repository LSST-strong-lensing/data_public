{
 "cells": [
  {
   "cell_type": "code",
   "execution_count": 1,
   "metadata": {},
   "outputs": [],
   "source": [
    "from webbpsf.roman import WFI\n",
    "import pickle\n",
    "import os\n",
    "\n",
    "oversample=2\n",
    "detector_pos=(2000,2000)\n",
    "band = \"F106\"\n",
    "\n",
    "\n",
    "for detector in range(1,19):\n",
    "    wfi = WFI()\n",
    "    wfi.filter = band.upper()\n",
    "    wfi.detector = f'SCA{str(detector).zfill(2)}'\n",
    "    wfi.detector_position = detector_pos\n",
    "    psf = wfi.calc_psf(oversample=oversample)\n",
    "\n",
    "    base_path = # insert directory to contain PSFs here\n",
    "    file_name = f'{band}_{wfi.detector}_{detector_pos[0]}_{detector_pos[1]}_{oversample}.pkl'\n",
    "    psf_dir = os.path.join(base_path, file_name)\n",
    "    with open(psf_dir, \"wb\") as pickle_file:\n",
    "        pickle.dump(psf, pickle_file)\n"
   ]
  }
 ],
 "metadata": {
  "kernelspec": {
   "display_name": "Python 3",
   "language": "python",
   "name": "python3"
  },
  "language_info": {
   "codemirror_mode": {
    "name": "ipython",
    "version": 3
   },
   "file_extension": ".py",
   "mimetype": "text/x-python",
   "name": "python",
   "nbconvert_exporter": "python",
   "pygments_lexer": "ipython3",
   "version": "3.10.12"
  }
 },
 "nbformat": 4,
 "nbformat_minor": 2
}
